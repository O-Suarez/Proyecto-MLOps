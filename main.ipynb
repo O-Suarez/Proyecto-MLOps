{
 "cells": [
  {
   "cell_type": "code",
   "execution_count": 2,
   "metadata": {},
   "outputs": [
    {
     "name": "stderr",
     "output_type": "stream",
     "text": [
      "2024/10/12 19:55:39 INFO mlflow.tracking.fluent: Experiment with name '/user/test' does not exist. Creating a new experiment.\n",
      "/home/diego/Documents/GitHub/Proyecto-MLOps/refactoring/preprocess.py:13: SettingWithCopyWarning: \n",
      "A value is trying to be set on a copy of a slice from a DataFrame.\n",
      "Try using .loc[row_indexer,col_indexer] = value instead\n",
      "\n",
      "See the caveats in the documentation: https://pandas.pydata.org/pandas-docs/stable/user_guide/indexing.html#returning-a-view-versus-a-copy\n",
      "  raw_data[\"gender\"] = raw_data[\"gender\"].astype(\"category\")\n"
     ]
    },
    {
     "name": "stdout",
     "output_type": "stream",
     "text": [
      "Error Cuadrático Medio (MSE) - Random Forest: 0.6526402640264026\n",
      "Precisión - Random Forest: 0.5936468646864687\n",
      "Informe de clasificación - Random Forest:\n",
      "              precision    recall  f1-score   support\n",
      "\n",
      "           0       0.54      0.55      0.55       803\n",
      "           1       0.52      0.47      0.50       817\n",
      "           2       0.71      0.75      0.73       804\n",
      "\n",
      "    accuracy                           0.59      2424\n",
      "   macro avg       0.59      0.59      0.59      2424\n",
      "weighted avg       0.59      0.59      0.59      2424\n",
      "\n"
     ]
    },
    {
     "name": "stderr",
     "output_type": "stream",
     "text": [
      "2024/10/12 19:55:41 WARNING mlflow.models.model: Model logged without a signature and input example. Please set `input_example` parameter when logging the model to auto infer the model signature.\n",
      "2024/10/12 19:55:41 INFO mlflow.tracking._tracking_service.client: 🏃 View run fortunate-mole-252 at: http://dev.logaritmia.mx:5000/#/experiments/1/runs/d13668ae6adc4577b81caf91dba93d55.\n",
      "2024/10/12 19:55:41 INFO mlflow.tracking._tracking_service.client: 🧪 View experiment at: http://dev.logaritmia.mx:5000/#/experiments/1.\n"
     ]
    }
   ],
   "source": [
    "import mlflow\n",
    "\n",
    "from refactoring import data_loading, evaluation, preprocess, train\n",
    "\n",
    "\n",
    "mlflow.set_tracking_uri(\"http://dev.logaritmia.mx:5000\")\n",
    "mlflow.set_experiment(\"/user/test\")\n",
    "\n",
    "with mlflow.start_run() as run:\n",
    "    _RANDOM_STATE = 42\n",
    "    raw_data = data_loading.load_data(\"notebooks/1.EDA_Gender_Gap_in_Spanish_WP/data/data.csv\")\n",
    "    main_columns = ['NEds', 'NActDays', 'pagesWomen', 'wikiprojWomen']\n",
    "    transformed_data = preprocess.preprocess_data(raw_data, main_columns)\n",
    "    X_train, X_test, y_train, y_test = preprocess.split_data(transformed_data, main_columns, \"gender\",\n",
    "                                                            0.3, _RANDOM_STATE)\n",
    "    model = train.train_model(X_train, y_train, _RANDOM_STATE)\n",
    "    evaluation.evaluate_model(model, X_test, y_test)\n",
    "    mlflow.sklearn.log_model(model, \"model\")\n"
   ]
  }
 ],
 "metadata": {
  "kernelspec": {
   "display_name": "mna_py_310",
   "language": "python",
   "name": "python3"
  },
  "language_info": {
   "codemirror_mode": {
    "name": "ipython",
    "version": 3
   },
   "file_extension": ".py",
   "mimetype": "text/x-python",
   "name": "python",
   "nbconvert_exporter": "python",
   "pygments_lexer": "ipython3",
   "version": "3.10.13"
  }
 },
 "nbformat": 4,
 "nbformat_minor": 2
}
