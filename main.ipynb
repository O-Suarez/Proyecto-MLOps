{
 "cells": [
  {
   "cell_type": "code",
   "execution_count": 1,
   "metadata": {},
   "outputs": [
    {
     "name": "stderr",
     "output_type": "stream",
     "text": [
      "2024/10/13 18:12:18 INFO mlflow.tracking.fluent: Experiment with name '/wikipedia' does not exist. Creating a new experiment.\n",
      "2024/10/13 18:12:21 WARNING mlflow.models.model: Model logged without a signature and input example. Please set `input_example` parameter when logging the model to auto infer the model signature.\n",
      "2024/10/13 18:12:22 INFO mlflow.tracking._tracking_service.client: 🏃 View run painted-hound-910 at: http://dev.logaritmia.mx:5000/#/experiments/2/runs/383df3ba47344888a977962cc54a572b.\n",
      "2024/10/13 18:12:22 INFO mlflow.tracking._tracking_service.client: 🧪 View experiment at: http://dev.logaritmia.mx:5000/#/experiments/2.\n"
     ]
    }
   ],
   "source": [
    "from imblearn.pipeline import Pipeline\n",
    "from imblearn.over_sampling import SMOTE\n",
    "from sklearn import model_selection\n",
    "from sklearn.ensemble import RandomForestClassifier\n",
    "from sklearn.preprocessing import StandardScaler\n",
    "import mlflow\n",
    "\n",
    "from refactoring import data_loading, preprocess\n",
    "\n",
    "\n",
    "mlflow.set_tracking_uri(\"http://dev.logaritmia.mx:5000\")\n",
    "mlflow.set_experiment(\"/wikipedia\")\n",
    "\n",
    "with mlflow.start_run() as run:\n",
    "    main_columns = ['NEds', 'NActDays', 'pagesWomen', 'wikiprojWomen']\n",
    "    raw_data = data_loading.load_wikipedia(\"notebooks/1.EDA_Gender_Gap_in_Spanish_WP/data/data.csv\")\n",
    "    transformed_data = preprocess.remove_outliers(raw_data, main_columns)\n",
    "    X_train, X_test, y_train, y_test = model_selection.train_test_split(transformed_data[main_columns],\n",
    "                                                                        transformed_data[\"gender\"],\n",
    "                                                                        test_size=0.3)\n",
    "    pipe = Pipeline(steps=[\n",
    "        ('smote', SMOTE()),\n",
    "        ('scaler', StandardScaler()),\n",
    "        ('random_forest', RandomForestClassifier(n_estimators=100))\n",
    "    ])\n",
    "    pipe.fit(X_train, y_train)\n",
    "    mlflow.log_metric(\"accuracy\", pipe.score(X_test, y_test))\n",
    "    mlflow.sklearn.log_model(pipe, \"model\")\n"
   ]
  },
  {
   "cell_type": "code",
   "execution_count": 2,
   "metadata": {},
   "outputs": [
    {
     "name": "stderr",
     "output_type": "stream",
     "text": [
      "/home/diego/miniconda3/envs/mna_py_310/lib/python3.10/site-packages/tqdm/auto.py:21: TqdmWarning: IProgress not found. Please update jupyter and ipywidgets. See https://ipywidgets.readthedocs.io/en/stable/user_install.html\n",
      "  from .autonotebook import tqdm as notebook_tqdm\n",
      "Downloading artifacts: 100%|██████████| 5/5 [00:00<00:00, 16.32it/s] "
     ]
    },
    {
     "name": "stdout",
     "output_type": "stream",
     "text": [
      "Error Cuadrático Medio (MSE) - Random Forest: 0.8441\n",
      "Accuracy - Random Forest: 0.4213\n",
      "Informe de clasificación - Random Forest:\n",
      "              precision    recall  f1-score   support\n",
      "\n",
      "           0       0.35      0.33      0.34       469\n",
      "           1       0.60      0.48      0.54       808\n",
      "           2       0.13      0.35      0.19       102\n",
      "\n",
      "    accuracy                           0.42      1379\n",
      "   macro avg       0.36      0.39      0.35      1379\n",
      "weighted avg       0.48      0.42      0.44      1379\n",
      "\n"
     ]
    },
    {
     "name": "stderr",
     "output_type": "stream",
     "text": [
      "\n"
     ]
    }
   ],
   "source": [
    "import mlflow\n",
    "\n",
    "from refactoring import evaluation\n",
    "\n",
    "\n",
    "logged_model = 'runs:/383df3ba47344888a977962cc54a572b/model'\n",
    "loaded_model = mlflow.pyfunc.load_model(logged_model)\n",
    "evaluation.evaluate_model(loaded_model, X_test, y_test)"
   ]
  }
 ],
 "metadata": {
  "kernelspec": {
   "display_name": "mna_py_310",
   "language": "python",
   "name": "python3"
  },
  "language_info": {
   "codemirror_mode": {
    "name": "ipython",
    "version": 3
   },
   "file_extension": ".py",
   "mimetype": "text/x-python",
   "name": "python",
   "nbconvert_exporter": "python",
   "pygments_lexer": "ipython3",
   "version": "3.10.13"
  }
 },
 "nbformat": 4,
 "nbformat_minor": 2
}
