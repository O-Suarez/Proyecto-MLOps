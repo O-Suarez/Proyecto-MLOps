{
 "cells": [
  {
   "cell_type": "code",
   "execution_count": 2,
   "metadata": {},
   "outputs": [
    {
     "name": "stdout",
     "output_type": "stream",
     "text": [
      "Docker Desktop is already running.\n",
      "MLflow is already running.\n"
     ]
    },
    {
     "data": {
      "text/plain": [
       "<Experiment: artifact_location='mlflow-artifacts:/3', creation_time=1729384150209, experiment_id='3', last_update_time=1729384150209, lifecycle_stage='active', name='wikipedia', tags={}>"
      ]
     },
     "execution_count": 2,
     "metadata": {},
     "output_type": "execute_result"
    }
   ],
   "source": [
    "from imblearn.pipeline import Pipeline\n",
    "from sklearn.pipeline import make_pipeline\n",
    "from sklearn.ensemble import RandomForestClassifier\n",
    "from sklearn.linear_model import LogisticRegression\n",
    "from sklearn.preprocessing import StandardScaler, MinMaxScaler\n",
    "import mlflow\n",
    "from mlflow.models.signature import infer_signature\n",
    "from refactoring import data_loading, preprocess, mlflow_helper, evaluation\n",
    "# Start the MLflow server\n",
    "mlflow_helper.start_mlflow()\n",
    "# Setup MLflow\n",
    "mlflow.set_tracking_uri(\"http://localhost:5000\")\n",
    "mlflow.set_experiment(\"wikipedia\")"
   ]
  },
  {
   "cell_type": "code",
   "execution_count": 3,
   "metadata": {},
   "outputs": [
    {
     "ename": "NotFittedError",
     "evalue": "This OneHotEncoder instance is not fitted yet. Call 'fit' with appropriate arguments before using this estimator.",
     "output_type": "error",
     "traceback": [
      "\u001b[1;31m---------------------------------------------------------------------------\u001b[0m",
      "\u001b[1;31mNotFittedError\u001b[0m                            Traceback (most recent call last)",
      "Cell \u001b[1;32mIn[3], line 6\u001b[0m\n\u001b[0;32m      3\u001b[0m columns \u001b[38;5;241m=\u001b[39m [\u001b[38;5;124m'\u001b[39m\u001b[38;5;124mE_NEds\u001b[39m\u001b[38;5;124m'\u001b[39m, \u001b[38;5;124m'\u001b[39m\u001b[38;5;124mE_Bpag\u001b[39m\u001b[38;5;124m'\u001b[39m, \u001b[38;5;124m'\u001b[39m\u001b[38;5;124mNEds\u001b[39m\u001b[38;5;124m'\u001b[39m, \u001b[38;5;124m'\u001b[39m\u001b[38;5;124mNDays\u001b[39m\u001b[38;5;124m'\u001b[39m, \u001b[38;5;124m'\u001b[39m\u001b[38;5;124mNActDays\u001b[39m\u001b[38;5;124m'\u001b[39m,\n\u001b[0;32m      4\u001b[0m            \u001b[38;5;124m'\u001b[39m\u001b[38;5;124mNPages\u001b[39m\u001b[38;5;124m'\u001b[39m, \u001b[38;5;124m'\u001b[39m\u001b[38;5;124mNPcreated\u001b[39m\u001b[38;5;124m'\u001b[39m, \u001b[38;5;124m'\u001b[39m\u001b[38;5;124mpagesWomen\u001b[39m\u001b[38;5;124m'\u001b[39m, \u001b[38;5;124m'\u001b[39m\u001b[38;5;124mwikiprojWomen\u001b[39m\u001b[38;5;124m'\u001b[39m, \u001b[38;5;124m'\u001b[39m\u001b[38;5;124mweightIJ\u001b[39m\u001b[38;5;124m'\u001b[39m, \u001b[38;5;124m'\u001b[39m\u001b[38;5;124mNIJ\u001b[39m\u001b[38;5;124m'\u001b[39m]\n\u001b[0;32m      5\u001b[0m \u001b[38;5;66;03m#columns = [\"C_api\", \"C_man\", \"E_NEds\", \"E_Bpag\", \"firstDay\", \"lastDay\", \"NEds\", \"NDays\", \"NActDays\", \"NPages\", \"NPcreated\", \"pagesWomen\", \"wikiprojWomen\", \"ns_user\", \"ns_wikipedia\", \"ns_talk\", \"ns_userTalk\", \"ns_content\", \"weightIJ\", \"NIJ\"]\u001b[39;00m\n\u001b[1;32m----> 6\u001b[0m X_train, X_test, y_train, y_test \u001b[38;5;241m=\u001b[39m \u001b[43mpreprocess\u001b[49m\u001b[38;5;241;43m.\u001b[39;49m\u001b[43mget_data\u001b[49m\u001b[43m(\u001b[49m\u001b[43mcolumns\u001b[49m\u001b[43m)\u001b[49m\n",
      "File \u001b[1;32mc:\\Users\\Oscar\\Downloads\\Proyecto-MLOps-main\\Proyecto-MLOps-main\\refactoring\\preprocess.py:76\u001b[0m, in \u001b[0;36mget_data\u001b[1;34m(main_columns, raw_data)\u001b[0m\n\u001b[0;32m     73\u001b[0m X_test_prepared \u001b[38;5;241m=\u001b[39m transformation_pipeline\u001b[38;5;241m.\u001b[39mtransform(X_test)\n\u001b[0;32m     75\u001b[0m \u001b[38;5;66;03m# Get feature names after transformation\u001b[39;00m\n\u001b[1;32m---> 76\u001b[0m feature_names \u001b[38;5;241m=\u001b[39m \u001b[43mget_feature_names\u001b[49m\u001b[43m(\u001b[49m\u001b[43mtransformer\u001b[49m\u001b[43m,\u001b[49m\u001b[43m \u001b[49m\u001b[43mX_train\u001b[49m\u001b[38;5;241;43m.\u001b[39;49m\u001b[43mcolumns\u001b[49m\u001b[43m)\u001b[49m\n\u001b[0;32m     78\u001b[0m \u001b[38;5;66;03m# Convert X_train_prepared and X_test_prepared to DataFrames with feature names\u001b[39;00m\n\u001b[0;32m     79\u001b[0m X_train_prepared \u001b[38;5;241m=\u001b[39m pd\u001b[38;5;241m.\u001b[39mDataFrame(X_train_prepared, columns\u001b[38;5;241m=\u001b[39mfeature_names)\n",
      "File \u001b[1;32mc:\\Users\\Oscar\\Downloads\\Proyecto-MLOps-main\\Proyecto-MLOps-main\\refactoring\\preprocess.py:37\u001b[0m, in \u001b[0;36mget_feature_names\u001b[1;34m(column_transformer, input_features)\u001b[0m\n\u001b[0;32m     35\u001b[0m \u001b[38;5;28;01mif\u001b[39;00m \u001b[38;5;28mhasattr\u001b[39m(transformer, \u001b[38;5;124m'\u001b[39m\u001b[38;5;124mget_feature_names_out\u001b[39m\u001b[38;5;124m'\u001b[39m):\n\u001b[0;32m     36\u001b[0m     \u001b[38;5;28;01mif\u001b[39;00m \u001b[38;5;28misinstance\u001b[39m(transformer, OneHotEncoder):\n\u001b[1;32m---> 37\u001b[0m         names \u001b[38;5;241m=\u001b[39m \u001b[43mtransformer\u001b[49m\u001b[38;5;241;43m.\u001b[39;49m\u001b[43mget_feature_names_out\u001b[49m\u001b[43m(\u001b[49m\u001b[43mcolumns\u001b[49m\u001b[43m)\u001b[49m\n\u001b[0;32m     38\u001b[0m     \u001b[38;5;28;01melse\u001b[39;00m:\n\u001b[0;32m     39\u001b[0m         names \u001b[38;5;241m=\u001b[39m transformer\u001b[38;5;241m.\u001b[39mget_feature_names_out()\n",
      "File \u001b[1;32mc:\\Python312\\Lib\\site-packages\\sklearn\\preprocessing\\_encoders.py:1207\u001b[0m, in \u001b[0;36mOneHotEncoder.get_feature_names_out\u001b[1;34m(self, input_features)\u001b[0m\n\u001b[0;32m   1187\u001b[0m \u001b[38;5;28;01mdef\u001b[39;00m \u001b[38;5;21mget_feature_names_out\u001b[39m(\u001b[38;5;28mself\u001b[39m, input_features\u001b[38;5;241m=\u001b[39m\u001b[38;5;28;01mNone\u001b[39;00m):\n\u001b[0;32m   1188\u001b[0m \u001b[38;5;250m    \u001b[39m\u001b[38;5;124;03m\"\"\"Get output feature names for transformation.\u001b[39;00m\n\u001b[0;32m   1189\u001b[0m \n\u001b[0;32m   1190\u001b[0m \u001b[38;5;124;03m    Parameters\u001b[39;00m\n\u001b[1;32m   (...)\u001b[0m\n\u001b[0;32m   1205\u001b[0m \u001b[38;5;124;03m        Transformed feature names.\u001b[39;00m\n\u001b[0;32m   1206\u001b[0m \u001b[38;5;124;03m    \"\"\"\u001b[39;00m\n\u001b[1;32m-> 1207\u001b[0m     \u001b[43mcheck_is_fitted\u001b[49m\u001b[43m(\u001b[49m\u001b[38;5;28;43mself\u001b[39;49m\u001b[43m)\u001b[49m\n\u001b[0;32m   1208\u001b[0m     input_features \u001b[38;5;241m=\u001b[39m _check_feature_names_in(\u001b[38;5;28mself\u001b[39m, input_features)\n\u001b[0;32m   1209\u001b[0m     cats \u001b[38;5;241m=\u001b[39m [\n\u001b[0;32m   1210\u001b[0m         \u001b[38;5;28mself\u001b[39m\u001b[38;5;241m.\u001b[39m_compute_transformed_categories(i)\n\u001b[0;32m   1211\u001b[0m         \u001b[38;5;28;01mfor\u001b[39;00m i, _ \u001b[38;5;129;01min\u001b[39;00m \u001b[38;5;28menumerate\u001b[39m(\u001b[38;5;28mself\u001b[39m\u001b[38;5;241m.\u001b[39mcategories_)\n\u001b[0;32m   1212\u001b[0m     ]\n",
      "File \u001b[1;32mc:\\Python312\\Lib\\site-packages\\sklearn\\utils\\validation.py:1632\u001b[0m, in \u001b[0;36mcheck_is_fitted\u001b[1;34m(estimator, attributes, msg, all_or_any)\u001b[0m\n\u001b[0;32m   1629\u001b[0m     \u001b[38;5;28;01mraise\u001b[39;00m \u001b[38;5;167;01mTypeError\u001b[39;00m(\u001b[38;5;124m\"\u001b[39m\u001b[38;5;132;01m%s\u001b[39;00m\u001b[38;5;124m is not an estimator instance.\u001b[39m\u001b[38;5;124m\"\u001b[39m \u001b[38;5;241m%\u001b[39m (estimator))\n\u001b[0;32m   1631\u001b[0m \u001b[38;5;28;01mif\u001b[39;00m \u001b[38;5;129;01mnot\u001b[39;00m _is_fitted(estimator, attributes, all_or_any):\n\u001b[1;32m-> 1632\u001b[0m     \u001b[38;5;28;01mraise\u001b[39;00m NotFittedError(msg \u001b[38;5;241m%\u001b[39m {\u001b[38;5;124m\"\u001b[39m\u001b[38;5;124mname\u001b[39m\u001b[38;5;124m\"\u001b[39m: \u001b[38;5;28mtype\u001b[39m(estimator)\u001b[38;5;241m.\u001b[39m\u001b[38;5;18m__name__\u001b[39m})\n",
      "\u001b[1;31mNotFittedError\u001b[0m: This OneHotEncoder instance is not fitted yet. Call 'fit' with appropriate arguments before using this estimator."
     ]
    }
   ],
   "source": [
    "# Setup training data\n",
    "\n",
    "columns = ['E_NEds', 'E_Bpag', 'NEds', 'NDays', 'NActDays',\n",
    "           'NPages', 'NPcreated', 'pagesWomen', 'wikiprojWomen', 'weightIJ', 'NIJ']\n",
    "#columns = [\"C_api\", \"C_man\", \"E_NEds\", \"E_Bpag\", \"firstDay\", \"lastDay\", \"NEds\", \"NDays\", \"NActDays\", \"NPages\", \"NPcreated\", \"pagesWomen\", \"wikiprojWomen\", \"ns_user\", \"ns_wikipedia\", \"ns_talk\", \"ns_userTalk\", \"ns_content\", \"weightIJ\", \"NIJ\"]\n",
    "X_train, X_test, y_train, y_test = preprocess.get_data(columns)\n"
   ]
  },
  {
   "cell_type": "code",
   "execution_count": 3,
   "metadata": {},
   "outputs": [
    {
     "data": {
      "application/vnd.jupyter.widget-view+json": {
       "model_id": "665f8696227a4c5f89c15b4581c235e5",
       "version_major": 2,
       "version_minor": 0
      },
      "text/plain": [
       "Downloading artifacts:   0%|          | 0/7 [00:00<?, ?it/s]"
      ]
     },
     "metadata": {},
     "output_type": "display_data"
    },
    {
     "name": "stderr",
     "output_type": "stream",
     "text": [
      "2024/10/20 01:37:31 INFO mlflow.tracking._tracking_service.client: 🏃 View run victorious-sow-167 at: http://localhost:5000/#/experiments/3/runs/1c42589fb6004f7a8c56e00bf4fb06e5.\n",
      "2024/10/20 01:37:31 INFO mlflow.tracking._tracking_service.client: 🧪 View experiment at: http://localhost:5000/#/experiments/3.\n"
     ]
    }
   ],
   "source": [
    "# Random Forest model\n",
    "mlflow.sklearn.autolog(log_post_training_metrics=False)\n",
    "with mlflow.start_run() as run:\n",
    "    rf_model = Pipeline(steps=[\n",
    "        ('random_forest', RandomForestClassifier(bootstrap = True, max_depth = None, max_features = 'sqrt', min_samples_leaf = 2, min_samples_split = 2, n_estimators = 200, random_state=42))\n",
    "    ])\n",
    "    rf_model.fit(X_train, y_train)\n",
    "    accuracy = rf_model.score(X_test, y_test)\n",
    "    mlflow.log_metric(\"accuracy\", accuracy)\n",
    "\n",
    "    # Log the model to MLflow\n",
    "    mlflow.sklearn.log_model(\n",
    "        sk_model=rf_model,\n",
    "        artifact_path=\"model\",\n",
    "        signature=infer_signature(X_train, rf_model.predict(X_train)),\n",
    "        input_example= X_train.head(1))\n"
   ]
  },
  {
   "cell_type": "code",
   "execution_count": 4,
   "metadata": {},
   "outputs": [
    {
     "name": "stdout",
     "output_type": "stream",
     "text": [
      "Latest run ID: 1c42589fb6004f7a8c56e00bf4fb06e5\n"
     ]
    },
    {
     "data": {
      "application/vnd.jupyter.widget-view+json": {
       "model_id": "45efb383f4d549969bc154b438a4eb69",
       "version_major": 2,
       "version_minor": 0
      },
      "text/plain": [
       "Downloading artifacts:   0%|          | 0/7 [00:00<?, ?it/s]"
      ]
     },
     "metadata": {},
     "output_type": "display_data"
    },
    {
     "name": "stdout",
     "output_type": "stream",
     "text": [
      "Error Cuadrático Medio (MSE) - RandomForestClassifier: 0.0\n",
      "Accuracy - RandomForestClassifier: 1.0\n",
      "Informe de clasificación - RandomForestClassifier:\n",
      "              precision    recall  f1-score   support\n",
      "\n",
      "           0       1.00      1.00      1.00       307\n",
      "           1       1.00      1.00      1.00       528\n",
      "           2       1.00      1.00      1.00        68\n",
      "\n",
      "    accuracy                           1.00       903\n",
      "   macro avg       1.00      1.00      1.00       903\n",
      "weighted avg       1.00      1.00      1.00       903\n",
      "\n"
     ]
    }
   ],
   "source": [
    "\n",
    "loaded_model,last_run = mlflow_helper.load_last_mlflow_model(\"http://localhost:5000\", \"wikipedia\")\n",
    "evaluation.evaluate_model(loaded_model, X_test, y_test, last_run)"
   ]
  },
  {
   "cell_type": "code",
   "execution_count": 5,
   "metadata": {},
   "outputs": [
    {
     "name": "stderr",
     "output_type": "stream",
     "text": [
      "c:\\Python312\\Lib\\site-packages\\sklearn\\linear_model\\_logistic.py:1247: FutureWarning: 'multi_class' was deprecated in version 1.5 and will be removed in 1.7. From then on, it will always use 'multinomial'. Leave it to its default value to avoid this warning.\n",
      "  warnings.warn(\n"
     ]
    },
    {
     "data": {
      "application/vnd.jupyter.widget-view+json": {
       "model_id": "d1b2752f2caa4cc198d0172a524107bd",
       "version_major": 2,
       "version_minor": 0
      },
      "text/plain": [
       "Downloading artifacts:   0%|          | 0/7 [00:00<?, ?it/s]"
      ]
     },
     "metadata": {},
     "output_type": "display_data"
    },
    {
     "name": "stderr",
     "output_type": "stream",
     "text": [
      "2024/10/20 01:37:41 INFO mlflow.tracking._tracking_service.client: 🏃 View run dashing-colt-945 at: http://localhost:5000/#/experiments/3/runs/1cf8a9ab7af141748e22a331f6c6dd64.\n",
      "2024/10/20 01:37:41 INFO mlflow.tracking._tracking_service.client: 🧪 View experiment at: http://localhost:5000/#/experiments/3.\n"
     ]
    }
   ],
   "source": [
    "# Logistic Regression model\n",
    "with mlflow.start_run() as run:\n",
    "    logistic_model = Pipeline(steps=[\n",
    "        ('logistic_regression', LogisticRegression(random_state=42,solver='lbfgs',multi_class='multinomial'))\n",
    "    ])\n",
    "\n",
    "    logistic_model.fit(X_train, y_train)\n",
    "    logistic_accuracy = logistic_model.score(X_test, y_test)\n",
    "    mlflow.log_metric(\"logistic_accuracy\", logistic_accuracy)\n",
    "\n",
    "    # Log the model to MLflow\n",
    "    mlflow.sklearn.log_model(\n",
    "        sk_model=logistic_model,\n",
    "        artifact_path=\"model\",\n",
    "        signature=infer_signature(X_train, rf_model.predict(X_train)),\n",
    "        input_example= X_train.head(1))"
   ]
  },
  {
   "cell_type": "code",
   "execution_count": 6,
   "metadata": {},
   "outputs": [
    {
     "name": "stdout",
     "output_type": "stream",
     "text": [
      "Latest run ID: 1cf8a9ab7af141748e22a331f6c6dd64\n"
     ]
    },
    {
     "data": {
      "application/vnd.jupyter.widget-view+json": {
       "model_id": "818fcbd80e664274876648f21ef39321",
       "version_major": 2,
       "version_minor": 0
      },
      "text/plain": [
       "Downloading artifacts:   0%|          | 0/7 [00:00<?, ?it/s]"
      ]
     },
     "metadata": {},
     "output_type": "display_data"
    },
    {
     "name": "stdout",
     "output_type": "stream",
     "text": [
      "Error Cuadrático Medio (MSE) - LogisticRegression: 0.0\n",
      "Accuracy - LogisticRegression: 1.0\n",
      "Informe de clasificación - LogisticRegression:\n",
      "              precision    recall  f1-score   support\n",
      "\n",
      "           0       1.00      1.00      1.00       307\n",
      "           1       1.00      1.00      1.00       528\n",
      "           2       1.00      1.00      1.00        68\n",
      "\n",
      "    accuracy                           1.00       903\n",
      "   macro avg       1.00      1.00      1.00       903\n",
      "weighted avg       1.00      1.00      1.00       903\n",
      "\n"
     ]
    }
   ],
   "source": [
    "loaded_model, last_run = mlflow_helper.load_last_mlflow_model(\"http://localhost:5000\", \"wikipedia\")\n",
    "evaluation.evaluate_model(loaded_model, X_test, y_test, last_run)"
   ]
  }
 ],
 "metadata": {
  "kernelspec": {
   "display_name": "Python 3",
   "language": "python",
   "name": "python3"
  },
  "language_info": {
   "codemirror_mode": {
    "name": "ipython",
    "version": 3
   },
   "file_extension": ".py",
   "mimetype": "text/x-python",
   "name": "python",
   "nbconvert_exporter": "python",
   "pygments_lexer": "ipython3",
   "version": "3.12.6"
  }
 },
 "nbformat": 4,
 "nbformat_minor": 2
}
